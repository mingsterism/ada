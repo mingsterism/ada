{
 "cells": [
  {
   "cell_type": "code",
   "execution_count": 1,
   "metadata": {},
   "outputs": [
    {
     "name": "stdout",
     "output_type": "stream",
     "text": [
      "undefined\n"
     ]
    }
   ],
   "source": [
    "var name;\n",
    "console.log(name)"
   ]
  },
  {
   "cell_type": "markdown",
   "metadata": {},
   "source": [
    "### We need to initialize the value FIRST before assignment!!"
   ]
  },
  {
   "cell_type": "code",
   "execution_count": null,
   "metadata": {},
   "outputs": [],
   "source": [
    "var z; // initialization \n",
    "z = 10; // assignment\n",
    "z = 500; // assignment\n",
    "console.log(z);"
   ]
  },
  {
   "cell_type": "code",
   "execution_count": null,
   "metadata": {},
   "outputs": [],
   "source": [
    "var name = \"James\" // initializing and assigning value"
   ]
  },
  {
   "cell_type": "code",
   "execution_count": 13,
   "metadata": {},
   "outputs": [
    {
     "name": "stdout",
     "output_type": "stream",
     "text": [
      "FOO\n"
     ]
    }
   ],
   "source": [
    "var i = 0;\n",
    "for (var i = 0; i < 10; i++) { // i = i << what is it) + 1\n",
    "    var $ = -i;\n",
    "}\n",
    "if (i > 100) {\n",
    "    console.log(i)\n",
    "    var p = 'FOO';\n",
    "} else {\n",
    "    var q = 'BAR';\n",
    "}\n",
    "\n",
    "console.log(p)"
   ]
  },
  {
   "cell_type": "code",
   "execution_count": null,
   "metadata": {},
   "outputs": [],
   "source": [
    "console.log('hello')"
   ]
  },
  {
   "cell_type": "markdown",
   "metadata": {},
   "source": [
    "## Objects"
   ]
  },
  {
   "cell_type": "code",
   "execution_count": 56,
   "metadata": {},
   "outputs": [
    {
     "name": "stdout",
     "output_type": "stream",
     "text": [
      "{ mykey: 'myvalue',\n",
      "  game: 'counter strike',\n",
      "  object2: \n",
      "   { subgame: 'counterstrike 1.0',\n",
      "     arrays: [ 1, 2, 3, 4, 5, 6 ],\n",
      "     jsonObjects: [ [Object] ] } }\n"
     ]
    }
   ],
   "source": [
    "var object1 = {\n",
    "    mykey: \"myvalue\", \n",
    "    game: \"counter strike\", \n",
    "    object2: {\n",
    "        subgame: \"counterstrike 1.0\", \n",
    "        arrays: [ 1, 2, 3, 4, 5, 6 ], \n",
    "        jsonObjects: [\n",
    "            {\n",
    "                name: \"James\", \n",
    "                age: 10\n",
    "            }, \n",
    "        ]\n",
    "    }\n",
    "}\n",
    "console.log(object1)"
   ]
  },
  {
   "cell_type": "code",
   "execution_count": 24,
   "metadata": {},
   "outputs": [
    {
     "name": "stdout",
     "output_type": "stream",
     "text": [
      "1\n"
     ]
    }
   ],
   "source": [
    "var numbers = [{ name: \"James\", age: 10} , 2, 3, 4, 5]\n",
    "console.log(numbers[0])"
   ]
  },
  {
   "cell_type": "markdown",
   "metadata": {},
   "source": [
    "### How objects work in assignment\n",
    "Objects assign a  key and a value\n",
    "```\n",
    "var firstObject = new Object()\n",
    "firstObject[\"hobbies\"] = [\"swimming\", \"cycling\", \"badminton\"]\n",
    "\n",
    ">>> \n",
    "firstObject = \n",
    "{\n",
    "    hobbies: [\"swimming\" \"cycling\", \"badminton\"]\n",
    "}\n",
    "```"
   ]
  },
  {
   "cell_type": "code",
   "execution_count": 53,
   "metadata": {},
   "outputs": [
    {
     "name": "stdout",
     "output_type": "stream",
     "text": [
      "{ 'counter-strike': 6,\n",
      "  dota: 8,\n",
      "  heroProfile: { agi: 5, str: 8, int: 2 },\n",
      "  playerProfile: { age: 10, name: 'June' },\n",
      "  'dawn of war': 3 }\n",
      "3\n"
     ]
    }
   ],
   "source": [
    "var games = new Object()\n",
    "games['counter-strike'] = 6\n",
    "games['dota'] = 8\n",
    "\n",
    "// create a object within an object\n",
    "games['heroProfile'] = { agi: 5, str: 8, int: 2}\n",
    "games['playerProfile'] = new Object()\n",
    "games['playerProfile']['age'] = 10\n",
    "games['playerProfile']['name'] = \"June\"\n",
    "games['dawn of war'] = 3\n",
    "console.log(games)\n",
    "console.log(games['dawn of war'])"
   ]
  },
  {
   "cell_type": "code",
   "execution_count": 55,
   "metadata": {},
   "outputs": [
    {
     "name": "stdout",
     "output_type": "stream",
     "text": [
      "{ mykey: 'value', object3: { key: 'some value' } } '======================'\n",
      "value\n"
     ]
    }
   ],
   "source": [
    "var object2 = new Object()\n",
    "object2['mykey'] = \"value\"\n",
    "object2['object3'] = new Object()\n",
    "object2['object3']['key'] = \"some value\"\n",
    "console.log(object2, \"======================\")\n",
    "object2['object3'] = [1, 2, 3, 4, 5]\n",
    "\n",
    "\n",
    "console.log({\"mykey\": \"value\"}[\"mykey\"])"
   ]
  },
  {
   "cell_type": "code",
   "execution_count": 58,
   "metadata": {},
   "outputs": [
    {
     "name": "stdout",
     "output_type": "stream",
     "text": [
      "{ human: 'Muaz' }\n"
     ]
    }
   ],
   "source": [
    "var x = {human: \"adam\"}\n",
    "var y = x\n",
    "\n",
    "y['human'] = \"Muaz\"\n",
    "\n",
    "console.log(x)"
   ]
  },
  {
   "cell_type": "code",
   "execution_count": 61,
   "metadata": {
    "scrolled": true
   },
   "outputs": [
    {
     "name": "stdout",
     "output_type": "stream",
     "text": [
      "{ human: 'adam' }\n",
      "{ human: 'Muaz' }\n"
     ]
    }
   ],
   "source": [
    "var x = new Object()\n",
    "x['human'] = \"adam\"\n",
    "var y = x\n",
    "console.log(y)\n",
    " y['human'] = \"Muaz\"\n",
    "\n",
    "console.log(x)"
   ]
  },
  {
   "cell_type": "markdown",
   "metadata": {},
   "source": [
    "### Functions\n",
    "Function Scope. Variables are only local to the function. They do not exist outside the function"
   ]
  },
  {
   "cell_type": "code",
   "execution_count": 2,
   "metadata": {},
   "outputs": [
    {
     "name": "stdout",
     "output_type": "stream",
     "text": [
      "x1 is 300\n",
      "undefined\n"
     ]
    }
   ],
   "source": [
    "function foo () {\n",
    "    // local scoped variables\n",
    "    var x1 = 300\n",
    "    console.log(\"x1 is\", x1)\n",
    "}\n",
    "var x1;\n",
    "foo()\n",
    "console.log(x1) // <<<<<<<<<<<<<<<<<<"
   ]
  },
  {
   "cell_type": "code",
   "execution_count": 7,
   "metadata": {},
   "outputs": [
    {
     "name": "stdout",
     "output_type": "stream",
     "text": [
      "10\n"
     ]
    }
   ],
   "source": [
    "function boo () {\n",
    "    var x = 10;\n",
    "    return x\n",
    "}\n",
    "console.log(boo())"
   ]
  },
  {
   "cell_type": "markdown",
   "metadata": {},
   "source": [
    "### Recursive Functions"
   ]
  },
  {
   "cell_type": "code",
   "execution_count": 8,
   "metadata": {},
   "outputs": [
    {
     "data": {
      "text/plain": [
       "6"
      ]
     },
     "execution_count": 8,
     "metadata": {},
     "output_type": "execute_result"
    }
   ],
   "source": [
    "var fact = function (n) {\n",
    "    if (n === 0) return 1;\n",
    "    if (n > 0) return n * fact(n - 1);              // *1\n",
    "};\n",
    "fact(3);"
   ]
  },
  {
   "cell_type": "markdown",
   "metadata": {},
   "source": [
    "### Function Invocation Run Time"
   ]
  },
  {
   "cell_type": "code",
   "execution_count": 9,
   "metadata": {},
   "outputs": [],
   "source": [
    "var cat = {\n",
    "    age: 3,\n",
    "    meow: function () {\n",
    "        console.log(this.sound);\n",
    "        return this.age;\n",
    "    },\n",
    "    sound: 'meow~~'\n",
    "};"
   ]
  },
  {
   "cell_type": "code",
   "execution_count": 10,
   "metadata": {},
   "outputs": [
    {
     "name": "stdout",
     "output_type": "stream",
     "text": [
      "{ age: 3, meow: [Function: meow], sound: 'meow~~' }\n"
     ]
    }
   ],
   "source": [
    "var m = cat\n",
    "console.log(m)"
   ]
  },
  {
   "cell_type": "code",
   "execution_count": 18,
   "metadata": {},
   "outputs": [
    {
     "name": "stdout",
     "output_type": "stream",
     "text": [
      "meow~~\n",
      "3\n"
     ]
    }
   ],
   "source": [
    "var m1 = cat.meow();\n",
    "console.log(m1)"
   ]
  },
  {
   "cell_type": "markdown",
   "metadata": {},
   "source": [
    "### Factorization Problem"
   ]
  },
  {
   "cell_type": "code",
   "execution_count": 28,
   "metadata": {},
   "outputs": [
    {
     "name": "stdout",
     "output_type": "stream",
     "text": [
      "5040\n"
     ]
    }
   ],
   "source": [
    "function factorialize (num) {\n",
    "    var x = 1\n",
    "    var factorial = 1;\n",
    "    while (x <= num) {\n",
    "        factorial *= x\n",
    "        x = x + 1\n",
    "    }\n",
    "    return factorial\n",
    "}\n",
    "console.log(factorialize(7))"
   ]
  },
  {
   "cell_type": "code",
   "execution_count": null,
   "metadata": {},
   "outputs": [],
   "source": []
  }
 ],
 "metadata": {
  "kernelspec": {
   "display_name": "Javascript (Node.js)",
   "language": "javascript",
   "name": "javascript"
  },
  "language_info": {
   "file_extension": ".js",
   "mimetype": "application/javascript",
   "name": "javascript",
   "version": "8.9.3"
  }
 },
 "nbformat": 4,
 "nbformat_minor": 2
}
