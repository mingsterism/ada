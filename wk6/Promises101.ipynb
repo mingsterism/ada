{
 "cells": [
  {
   "cell_type": "markdown",
   "metadata": {
    "slideshow": {
     "slide_type": "slide"
    }
   },
   "source": [
    "### Promises\n",
    "I walk up to the counter at a fast-food restaurant, and place an order for a cheeseburger. I hand the cashier $1.47. By placing my order and paying for it, I've made a request for a value back (the cheeseburger). I've started a transaction.\n",
    "\n",
    "But often, the cheeseburger is not immediately available for me. The cashier hands me something in place of my cheeseburger: a receipt with an order number on it. This order number is an IOU (\"I owe you\") promise that ensures that eventually, I should receive my cheeseburger.\n",
    "\n",
    "So I hold onto my receipt and order number. I know it represents my future cheeseburger, so I don't need to worry about it anymore -- aside from being hungry!\n",
    "\n",
    "While I wait, I can do other things, like send a text message to a friend that says, \"Hey, can you come join me for lunch? I'm going to eat a cheeseburger.\"\n",
    "\n",
    "I am reasoning about my future cheeseburger already, even though I don't have it in my hands yet. My brain is able to do this because it's treating the order number as a placeholder for the cheeseburger. The placeholder essentially makes the value time independent. It's a future value."
   ]
  },
  {
   "cell_type": "code",
   "execution_count": 2,
   "metadata": {
    "slideshow": {
     "slide_type": "slide"
    }
   },
   "outputs": [
    {
     "name": "stdout",
     "output_type": "stream",
     "text": [
      "A\n",
      "B\n",
      "C\n"
     ]
    }
   ],
   "source": [
    "function run1 () {\n",
    "    console.log(\"A\")\n",
    "    console.log(\"B\")\n",
    "    console.log(\"C\")\n",
    "}\n",
    "run1()"
   ]
  },
  {
   "cell_type": "code",
   "execution_count": 4,
   "metadata": {
    "slideshow": {
     "slide_type": "slide"
    }
   },
   "outputs": [
    {
     "name": "stdout",
     "output_type": "stream",
     "text": [
      "A\n",
      "C\n",
      "B\n"
     ]
    }
   ],
   "source": [
    "// What will be the console log\n",
    "function runSetTimeout () {\n",
    "    console.log(\"A\")\n",
    "    setTimeout ( () => {\n",
    "        console.log(\"B\")\n",
    "    }, 4000)\n",
    "    console.log(\"C\")\n",
    "}\n",
    "runSetTimeout()"
   ]
  },
  {
   "cell_type": "markdown",
   "metadata": {
    "slideshow": {
     "slide_type": "slide"
    }
   },
   "source": [
    "I have a function called getData(). This function goes to firebase and extracts a set of data. "
   ]
  },
  {
   "cell_type": "code",
   "execution_count": 7,
   "metadata": {
    "slideshow": {
     "slide_type": "slide"
    }
   },
   "outputs": [
    {
     "name": "stdout",
     "output_type": "stream",
     "text": [
      "Data sent ----------------------------------\n"
     ]
    },
    {
     "data": {
      "text/plain": [
       "[ { name: 'James', age: 10 }, { name: 'Luke', age: 20 } ]"
      ]
     },
     "execution_count": 7,
     "metadata": {},
     "output_type": "execute_result"
    }
   ],
   "source": [
    "function getData () {\n",
    "    console.log(\"Data sent ----------------------------------\")\n",
    "    return [\n",
    "        {\n",
    "            name: \"James\", \n",
    "            age: 10\n",
    "        }, \n",
    "        {\n",
    "            name: \"Luke\", \n",
    "            age: 20\n",
    "        }\n",
    "    ]\n",
    "}\n",
    "\n",
    "getData()"
   ]
  },
  {
   "cell_type": "markdown",
   "metadata": {
    "slideshow": {
     "slide_type": "slide"
    }
   },
   "source": [
    "However, in the real world, getting data often takes longer than usual for some people as their internet isnt exactly that fast. "
   ]
  },
  {
   "cell_type": "code",
   "execution_count": 10,
   "metadata": {
    "slideshow": {
     "slide_type": "-"
    }
   },
   "outputs": [
    {
     "name": "stdout",
     "output_type": "stream",
     "text": [
      "Initializing get data\n",
      "Data sent ----------------------------------\n"
     ]
    }
   ],
   "source": [
    "// Over here, I simulate a delay of 3 seconds using setTimeout. \n",
    "//This is to fake some delay that may actually happen in the real world\n",
    "\n",
    "function getSlowData () {\n",
    "    console.log(\"Initializing get data\")\n",
    "    setTimeout ( () => {\n",
    "        return getData()\n",
    "    }, 2000 )\n",
    "}\n",
    "getSlowData()"
   ]
  },
  {
   "cell_type": "markdown",
   "metadata": {
    "slideshow": {
     "slide_type": "slide"
    }
   },
   "source": [
    "## Lets see the basics of promises first to understand that problem"
   ]
  },
  {
   "cell_type": "code",
   "execution_count": 27,
   "metadata": {
    "slideshow": {
     "slide_type": "slide"
    }
   },
   "outputs": [
    {
     "name": "stdout",
     "output_type": "stream",
     "text": [
      "200\n",
      "Timeout {\n",
      "  _called: false,\n",
      "  _idleTimeout: 2000,\n",
      "  _idlePrev: \n",
      "   TimersList {\n",
      "     _idleNext: [Circular],\n",
      "     _idlePrev: [Circular],\n",
      "     _timer: Timer { '0': [Function: listOnTimeout], _list: [Circular] },\n",
      "     _unrefed: false,\n",
      "     msecs: 2000,\n",
      "     nextTick: false },\n",
      "  _idleNext: \n",
      "   TimersList {\n",
      "     _idleNext: [Circular],\n",
      "     _idlePrev: [Circular],\n",
      "     _timer: Timer { '0': [Function: listOnTimeout], _list: [Circular] },\n",
      "     _unrefed: false,\n",
      "     msecs: 2000,\n",
      "     nextTick: false },\n",
      "  _idleStart: 586478,\n",
      "  _onTimeout: [Function],\n",
      "  _timerArgs: undefined,\n",
      "  _repeat: null,\n",
      "  _destroyed: false,\n",
      "  [Symbol(asyncId)]: 300,\n",
      "  [Symbol(triggerAsyncId)]: 0 }\n"
     ]
    }
   ],
   "source": [
    "var myFirstPromise = new Promise ( (resolve, reject) => {\n",
    "    var multiply = (x, y) =>  {\n",
    "        return x * y\n",
    "    }\n",
    "    var ans = multiply(10, 20)\n",
    "    setTimeout ( () => {\n",
    "        resolve(ans)\n",
    "    }, 1000)\n",
    "})\n",
    "\n",
    "myFirstPromise\n",
    "    .then( (adam) => {\n",
    "        console.log(adam)\n",
    "    setTimeout ( () => {\n",
    "        return \"yaaa\"\n",
    "    }, 2000)\n",
    "})\n",
    "    .then( (x) => {\n",
    "    console.log(x)\n",
    "})"
   ]
  },
  {
   "cell_type": "code",
   "execution_count": 29,
   "metadata": {
    "slideshow": {
     "slide_type": "slide"
    }
   },
   "outputs": [
    {
     "name": "stdout",
     "output_type": "stream",
     "text": [
      "200\n",
      "how are you\n",
      "I am fine\n",
      "Good <<<<\n",
      "undefined\n"
     ]
    }
   ],
   "source": [
    "// We can run promises in a sequence with .then()\n",
    "// If there are any errors, we can catch them with .catch()\n",
    "// We can continue on the chain with a .then()\n",
    "// we must return at the end of every .then and .catch\n",
    "\n",
    "var mySecondPromise = myFirstPromise\n",
    "    .then( (result) => {\n",
    "        console.log(result)\n",
    "        return \"how are you\"\n",
    "    })\n",
    "    .then ( (x) => {\n",
    "        console.log(x)\n",
    "        return \"I am fine\"\n",
    "    })\n",
    "    .then ( (y) => {\n",
    "        console.log(y)\n",
    "        return \"Good\"\n",
    "    })\n",
    "    .then ( (x) => {\n",
    "        console.log(x, '<<<<')\n",
    "    })\n",
    "    .catch ( (err) => {\n",
    "        console.log(err, \"caught\")\n",
    "        return \"Error logging done\"\n",
    "    })\n",
    "    .then ( (d) => {\n",
    "        console.log(d)\n",
    "        return new Promise ((resolve, reject) => {\n",
    "            resolve(\"heyy a new promise\")\n",
    "        })\n",
    "    })"
   ]
  },
  {
   "cell_type": "code",
   "execution_count": 38,
   "metadata": {
    "slideshow": {
     "slide_type": "slide"
    }
   },
   "outputs": [
    {
     "name": "stdout",
     "output_type": "stream",
     "text": [
      "heyy a new promise\n"
     ]
    }
   ],
   "source": [
    "mySecondPromise\n",
    "    .then ((y) => {\n",
    "        console.log(y)\n",
    "})"
   ]
  },
  {
   "cell_type": "code",
   "execution_count": 31,
   "metadata": {
    "slideshow": {
     "slide_type": "slide"
    }
   },
   "outputs": [
    {
     "name": "stdout",
     "output_type": "stream",
     "text": [
      "We can still run\n",
      "We can still run 2\n",
      "lalalalalalaala\n",
      "Received data\n"
     ]
    }
   ],
   "source": [
    "// we promisify our getSlowData\n",
    "\n",
    "var getSlowDataPromise = () => {\n",
    "    return new Promise ( (resolve, reject) => {\n",
    "        setTimeout ( () => resolve(getData()), 2000)\n",
    "    })\n",
    "}\n",
    "var promiseData = new Promise( (resolve, reject) => {\n",
    "    console.log(\"We can still run\")\n",
    "//     resolve(getSlowDataPromise())\n",
    "    resolve('lalalalalalaala')\n",
    "    console.log(\"We can still run 2\")\n",
    "})\n",
    "promiseData\n",
    "    .then( (d) => {\n",
    "        console.log(d)\n",
    "        console.log(\"Received data\")\n",
    "})"
   ]
  },
  {
   "cell_type": "code",
   "execution_count": 22,
   "metadata": {
    "slideshow": {
     "slide_type": "slide"
    }
   },
   "outputs": [
    {
     "name": "stdout",
     "output_type": "stream",
     "text": [
      "hey I've been resolved\n"
     ]
    }
   ],
   "source": [
    "function runTimeoutPromise () {\n",
    "    return new Promise( (resolve, reject) => {\n",
    "        setTimeout( () => resolve(\"hey I've been resolved\"), 2000)\n",
    "    })\n",
    "}\n",
    "runTimeoutPromise().then ( (data) => {\n",
    "    console.log(data)\n",
    "})"
   ]
  },
  {
   "cell_type": "code",
   "execution_count": 20,
   "metadata": {
    "slideshow": {
     "slide_type": "slide"
    }
   },
   "outputs": [
    {
     "name": "stdout",
     "output_type": "stream",
     "text": [
      "done! timeout is finished after 1 second\n"
     ]
    }
   ],
   "source": [
    "//Get the value from setTimeout\n",
    "function x() {\n",
    "   var promise = new Promise(function(resolve, reject) {\n",
    "     setTimeout(function() {\n",
    "       resolve('done! timeout is finished after 1 second');\n",
    "     }, 1000);\n",
    "   });\n",
    "   return promise;\n",
    "}\n",
    "\n",
    "x().then(function(done) {\n",
    "  console.log(done); // --> 'done!'\n",
    "});"
   ]
  },
  {
   "cell_type": "code",
   "execution_count": 16,
   "metadata": {
    "slideshow": {
     "slide_type": "slide"
    }
   },
   "outputs": [
    {
     "name": "stdout",
     "output_type": "stream",
     "text": [
      "10\n",
      "9\n",
      "8\n",
      "7\n",
      "6\n",
      "5\n",
      "4\n",
      "3\n",
      "2\n",
      "1\n",
      "counter finished:\n"
     ]
    }
   ],
   "source": [
    "function countDown(i) {\n",
    "  return promise = new Promise( (resolve, reject) => {\n",
    "\n",
    "    console.log(i--);\n",
    "\n",
    "    if (i > 0) {\n",
    "      setTimeout( () => {\n",
    "        countDown(i).then(resolve);\n",
    "      }, 1000);\n",
    "    } else {\n",
    "      resolve('counter finished:');\n",
    "    }\n",
    "\n",
    "  });\n",
    "\n",
    "}\n",
    "\n",
    "let counter = countDown(10);\n",
    "counter.then( (msg) => {\n",
    "  console.log(msg);\n",
    "});"
   ]
  },
  {
   "cell_type": "code",
   "execution_count": null,
   "metadata": {},
   "outputs": [],
   "source": []
  },
  {
   "cell_type": "code",
   "execution_count": null,
   "metadata": {},
   "outputs": [],
   "source": []
  },
  {
   "cell_type": "code",
   "execution_count": null,
   "metadata": {},
   "outputs": [],
   "source": []
  }
 ],
 "metadata": {
  "celltoolbar": "Slideshow",
  "kernelspec": {
   "display_name": "Javascript (Node.js)",
   "language": "javascript",
   "name": "javascript"
  },
  "language_info": {
   "file_extension": ".js",
   "mimetype": "application/javascript",
   "name": "javascript",
   "version": "8.11.1"
  }
 },
 "nbformat": 4,
 "nbformat_minor": 2
}
