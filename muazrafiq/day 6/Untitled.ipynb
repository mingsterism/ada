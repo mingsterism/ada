{
 "cells": [
  {
   "cell_type": "markdown",
   "metadata": {},
   "source": [
    "# First try "
   ]
  },
  {
   "cell_type": "code",
   "execution_count": 23,
   "metadata": {},
   "outputs": [
    {
     "name": "stdout",
     "output_type": "stream",
     "text": [
      "500\n"
     ]
    }
   ],
   "source": [
    "var car =\n",
    "car['Ferrari'] = 500\n",
    "car['Lambo'] = 600\n",
    "\n",
    "car['Porshe'] = {\n",
    "    model: 911,\n",
    "    colour: 'red',\n",
    "    speed: 700,\n",
    "};\n",
    "\n",
    "console.log(car)\n",
    "\n",
    "\n"
   ]
  },
  {
   "cell_type": "code",
   "execution_count": 32,
   "metadata": {},
   "outputs": [
    {
     "name": "stdout",
     "output_type": "stream",
     "text": [
      "{ hobbies: [ 'swimming', 'running', 'rugby' ],\n",
      "  person: [ 'name:muaz', 'age:10' ] }\n"
     ]
    }
   ],
   "source": [
    "var firstObject = new Object()\n",
    "firstObject['hobbies'] = ['swimming', 'running', 'rugby']\n",
    "firstObject['person']= ['name:muaz','age:10'];\n",
    "console.log(firstObject);"
   ]
  },
  {
   "cell_type": "code",
   "execution_count": null,
   "metadata": {},
   "outputs": [],
   "source": []
  },
  {
   "cell_type": "code",
   "execution_count": 33,
   "metadata": {},
   "outputs": [
    {
     "name": "stdout",
     "output_type": "stream",
     "text": [
      "{ human: 'muaz' }\n"
     ]
    }
   ],
   "source": [
    "var x = {human:'muaz'};\n",
    "\n",
    "console.log(x);\n",
    "\n",
    "\n"
   ]
  },
  {
   "cell_type": "markdown",
   "metadata": {},
   "source": [
    "## Factorization"
   ]
  },
  {
   "cell_type": "code",
   "execution_count": null,
   "metadata": {},
   "outputs": [],
   "source": [
    "function factorialize (num) {\n",
    "    var x = 1;\n",
    "    var factorial = 1;\n",
    "    \n",
    "}\n",
    "\n"
   ]
  }
 ],
 "metadata": {
  "kernelspec": {
   "display_name": "Javascript (Node.js)",
   "language": "javascript",
   "name": "javascript"
  },
  "language_info": {
   "file_extension": ".js",
   "mimetype": "application/javascript",
   "name": "javascript",
   "version": "8.11.1"
  }
 },
 "nbformat": 4,
 "nbformat_minor": 2
}
